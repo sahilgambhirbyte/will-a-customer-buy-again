{
 "cells": [
  {
   "cell_type": "code",
   "execution_count": 1,
   "id": "ae6682cf",
   "metadata": {
    "_cell_guid": "b1076dfc-b9ad-4769-8c92-a6c4dae69d19",
    "_uuid": "8f2839f25d086af736a60e9eeb907d3b93b6e0e5",
    "execution": {
     "iopub.execute_input": "2025-05-12T16:14:41.674786Z",
     "iopub.status.busy": "2025-05-12T16:14:41.674492Z",
     "iopub.status.idle": "2025-05-12T16:14:43.482023Z",
     "shell.execute_reply": "2025-05-12T16:14:43.480993Z"
    },
    "papermill": {
     "duration": 1.812974,
     "end_time": "2025-05-12T16:14:43.483607",
     "exception": false,
     "start_time": "2025-05-12T16:14:41.670633",
     "status": "completed"
    },
    "tags": []
   },
   "outputs": [
    {
     "name": "stdout",
     "output_type": "stream",
     "text": [
      "/kaggle/input/ecommerce-behavior-data-from-multi-category-store/2019-Nov.csv\n",
      "/kaggle/input/ecommerce-behavior-data-from-multi-category-store/2019-Oct.csv\n"
     ]
    }
   ],
   "source": [
    "# This Python 3 environment comes with many helpful analytics libraries installed\n",
    "# It is defined by the kaggle/python Docker image: https://github.com/kaggle/docker-python\n",
    "# For example, here's several helpful packages to load\n",
    "\n",
    "import numpy as np # linear algebra\n",
    "import pandas as pd # data processing, CSV file I/O (e.g. pd.read_csv)\n",
    "\n",
    "# Input data files are available in the read-only \"../input/\" directory\n",
    "# For example, running this (by clicking run or pressing Shift+Enter) will list all files under the input directory\n",
    "\n",
    "import os\n",
    "for dirname, _, filenames in os.walk('/kaggle/input'):\n",
    "    for filename in filenames:\n",
    "        print(os.path.join(dirname, filename))\n",
    "\n",
    "# You can write up to 20GB to the current directory (/kaggle/working/) that gets preserved as output when you create a version using \"Save & Run All\" \n",
    "# You can also write temporary files to /kaggle/temp/, but they won't be saved outside of the current session"
   ]
  },
  {
   "cell_type": "code",
   "execution_count": 2,
   "id": "0c777eb7",
   "metadata": {
    "execution": {
     "iopub.execute_input": "2025-05-12T16:14:43.489899Z",
     "iopub.status.busy": "2025-05-12T16:14:43.489049Z",
     "iopub.status.idle": "2025-05-12T16:14:43.492991Z",
     "shell.execute_reply": "2025-05-12T16:14:43.492230Z"
    },
    "papermill": {
     "duration": 0.008066,
     "end_time": "2025-05-12T16:14:43.494313",
     "exception": false,
     "start_time": "2025-05-12T16:14:43.486247",
     "status": "completed"
    },
    "tags": []
   },
   "outputs": [],
   "source": [
    "# Will a Customer Buy Again?\n",
    "## Objective\n",
    "# Predict whether a customer will make a repeat purchase based on their behavior during their first few visits/orders.\n",
    "\n",
    "## Tools\n",
    "# - Python\n",
    "# - Model: Logistic Regression, Random Forest"
   ]
  },
  {
   "cell_type": "code",
   "execution_count": 3,
   "id": "bc5a19fb",
   "metadata": {
    "execution": {
     "iopub.execute_input": "2025-05-12T16:14:43.499770Z",
     "iopub.status.busy": "2025-05-12T16:14:43.499148Z",
     "iopub.status.idle": "2025-05-12T16:14:45.767981Z",
     "shell.execute_reply": "2025-05-12T16:14:45.767288Z"
    },
    "papermill": {
     "duration": 2.273155,
     "end_time": "2025-05-12T16:14:45.769632",
     "exception": false,
     "start_time": "2025-05-12T16:14:43.496477",
     "status": "completed"
    },
    "tags": []
   },
   "outputs": [],
   "source": [
    "import matplotlib.pyplot as plt\n",
    "import seaborn as sns\n",
    "\n",
    "from sklearn.model_selection import train_test_split\n",
    "from sklearn.preprocessing import StandardScaler\n",
    "from sklearn.ensemble import RandomForestClassifier\n",
    "from sklearn.linear_model import LogisticRegression\n",
    "from sklearn.metrics import classification_report, confusion_matrix, roc_auc_score, roc_curve"
   ]
  },
  {
   "cell_type": "code",
   "execution_count": 4,
   "id": "51a1567b",
   "metadata": {
    "execution": {
     "iopub.execute_input": "2025-05-12T16:14:45.775707Z",
     "iopub.status.busy": "2025-05-12T16:14:45.774892Z",
     "iopub.status.idle": "2025-05-12T16:14:53.576340Z",
     "shell.execute_reply": "2025-05-12T16:14:53.575566Z"
    },
    "papermill": {
     "duration": 7.805919,
     "end_time": "2025-05-12T16:14:53.577868",
     "exception": false,
     "start_time": "2025-05-12T16:14:45.771949",
     "status": "completed"
    },
    "tags": []
   },
   "outputs": [],
   "source": [
    "df = pd.read_csv('/kaggle/input/ecommerce-behavior-data-from-multi-category-store/2019-Nov.csv' , parse_dates=['event_time'], nrows=1000000 ) \n",
    "##df = df.sample(n=min(1_000_000, len(df)), random_state=42).reset_index(drop=True)"
   ]
  },
  {
   "cell_type": "code",
   "execution_count": 5,
   "id": "b0462aff",
   "metadata": {
    "execution": {
     "iopub.execute_input": "2025-05-12T16:14:53.583898Z",
     "iopub.status.busy": "2025-05-12T16:14:53.583089Z",
     "iopub.status.idle": "2025-05-12T16:14:54.202993Z",
     "shell.execute_reply": "2025-05-12T16:14:54.202121Z"
    },
    "papermill": {
     "duration": 0.62461,
     "end_time": "2025-05-12T16:14:54.204809",
     "exception": false,
     "start_time": "2025-05-12T16:14:53.580199",
     "status": "completed"
    },
    "tags": []
   },
   "outputs": [],
   "source": [
    "df = df[df['event_type'].isin(['view', 'cart', 'purchase'])]\n",
    "\n",
    "# Feature Engineering\n",
    "df.sort_values(by=['user_id', 'event_time'], inplace=True)\n",
    "df['is_purchase'] = (df['event_type'] == 'purchase').astype(int)"
   ]
  },
  {
   "cell_type": "code",
   "execution_count": 6,
   "id": "53fc3de9",
   "metadata": {
    "execution": {
     "iopub.execute_input": "2025-05-12T16:14:54.210587Z",
     "iopub.status.busy": "2025-05-12T16:14:54.210284Z",
     "iopub.status.idle": "2025-05-12T16:15:34.178955Z",
     "shell.execute_reply": "2025-05-12T16:15:34.177949Z"
    },
    "papermill": {
     "duration": 39.975674,
     "end_time": "2025-05-12T16:15:34.182947",
     "exception": false,
     "start_time": "2025-05-12T16:14:54.207273",
     "status": "completed"
    },
    "tags": []
   },
   "outputs": [
    {
     "name": "stdout",
     "output_type": "stream",
     "text": [
      "                         event_time                                  \\\n",
      "                                min                       max count   \n",
      "user_id                                                               \n",
      "274969076 2019-11-01 06:18:48+00:00 2019-11-01 06:52:33+00:00     3   \n",
      "275256741 2019-11-01 02:23:03+00:00 2019-11-01 02:23:03+00:00     1   \n",
      "295643776 2019-11-01 03:12:38+00:00 2019-11-01 03:15:53+00:00     8   \n",
      "296465302 2019-11-01 04:10:21+00:00 2019-11-01 05:11:24+00:00    25   \n",
      "319315209 2019-11-01 13:54:30+00:00 2019-11-01 13:56:34+00:00     3   \n",
      "...                             ...                       ...   ...   \n",
      "566505649 2019-11-01 15:31:17+00:00 2019-11-01 15:31:17+00:00     1   \n",
      "566505680 2019-11-01 15:31:26+00:00 2019-11-01 15:31:26+00:00     1   \n",
      "566505735 2019-11-01 15:31:37+00:00 2019-11-01 15:31:37+00:00     1   \n",
      "566505770 2019-11-01 15:32:06+00:00 2019-11-01 15:32:06+00:00     1   \n",
      "566505856 2019-11-01 15:32:07+00:00 2019-11-01 15:32:07+00:00     1   \n",
      "\n",
      "          event_type       price product_id category_code user_session  \n",
      "            <lambda>        mean    nunique       nunique      nunique  \n",
      "user_id                                                                 \n",
      "274969076          0   304.75000          1             1            2  \n",
      "275256741          0  1415.48000          1             1            1  \n",
      "295643776          0   189.94625          4             2            2  \n",
      "296465302          0   221.20800         23             2            2  \n",
      "319315209          0     4.88000          2             0            1  \n",
      "...              ...         ...        ...           ...          ...  \n",
      "566505649          0   955.26000          1             1            1  \n",
      "566505680          0   240.68000          1             1            1  \n",
      "566505735          0   360.11000          1             1            1  \n",
      "566505770          0   350.86000          1             0            1  \n",
      "566505856          0   205.67000          1             1            1  \n",
      "\n",
      "[170337 rows x 8 columns]\n"
     ]
    },
    {
     "name": "stderr",
     "output_type": "stream",
     "text": [
      "/tmp/ipykernel_13/385896014.py:29: SettingWithCopyWarning: \n",
      "A value is trying to be set on a copy of a slice from a DataFrame\n",
      "\n",
      "See the caveats in the documentation: https://pandas.pydata.org/pandas-docs/stable/user_guide/indexing.html#returning-a-view-versus-a-copy\n",
      "  X.fillna(0, inplace=True)\n"
     ]
    }
   ],
   "source": [
    "user_features = df.groupby('user_id').agg({\n",
    "    'event_time': ['min', 'max', 'count'],\n",
    "    'event_type': lambda x: (x == 'purchase').sum(),\n",
    "    'price': 'mean',\n",
    "    'product_id': pd.Series.nunique,\n",
    "    'category_code': pd.Series.nunique,\n",
    "    'user_session': pd.Series.nunique\n",
    "})\n",
    "\n",
    "print(user_features)\n",
    "\n",
    "# Flatten column names\n",
    "user_features.columns = ['first_event', 'last_event', 'total_events',\n",
    "                         'purchase_count', 'avg_price_viewed',\n",
    "                         'unique_products', 'unique_categories',\n",
    "                         'session_count']\n",
    "\n",
    "# Derived features\n",
    "user_features['active_days'] = (user_features['last_event'] - user_features['first_event']).dt.days\n",
    "user_features['made_repeat_purchase'] = (user_features['purchase_count'] > 1).astype(int)\n",
    "\n",
    "# Clean up\n",
    "user_features.reset_index(inplace=True)\n",
    "X = user_features[['total_events', 'avg_price_viewed', 'unique_products',\n",
    "                   'unique_categories', 'session_count', 'active_days']]\n",
    "y = user_features['made_repeat_purchase']\n",
    "\n",
    "# Filling missing values\n",
    "X.fillna(0, inplace=True)"
   ]
  },
  {
   "cell_type": "code",
   "execution_count": 7,
   "id": "15059c5d",
   "metadata": {
    "execution": {
     "iopub.execute_input": "2025-05-12T16:15:34.191143Z",
     "iopub.status.busy": "2025-05-12T16:15:34.190366Z",
     "iopub.status.idle": "2025-05-12T16:15:42.804725Z",
     "shell.execute_reply": "2025-05-12T16:15:42.803856Z"
    },
    "papermill": {
     "duration": 8.620827,
     "end_time": "2025-05-12T16:15:42.806245",
     "exception": false,
     "start_time": "2025-05-12T16:15:34.185418",
     "status": "completed"
    },
    "tags": []
   },
   "outputs": [
    {
     "name": "stdout",
     "output_type": "stream",
     "text": [
      "Classification Report:\n",
      "\n",
      "              precision    recall  f1-score   support\n",
      "\n",
      "           0       0.99      1.00      0.99     50285\n",
      "           1       0.24      0.10      0.14       817\n",
      "\n",
      "    accuracy                           0.98     51102\n",
      "   macro avg       0.61      0.55      0.56     51102\n",
      "weighted avg       0.97      0.98      0.98     51102\n",
      "\n"
     ]
    },
    {
     "data": {
      "image/png": "[encoded data removed]",
      "text/plain": [
       "<Figure size 640x480 with 1 Axes>"
      ]
     },
     "metadata": {},
     "output_type": "display_data"
    }
   ],
   "source": [
    "# Train/test split\n",
    "X_train, X_test, y_train, y_test = train_test_split(X, y, test_size=0.3, random_state=42)\n",
    "\n",
    "# Train model\n",
    "model = RandomForestClassifier(n_estimators=100, random_state=42)\n",
    "model.fit(X_train, y_train)\n",
    "\n",
    "# Evaluate\n",
    "y_pred = model.predict(X_test)\n",
    "print(\"Classification Report:\\n\")\n",
    "print(classification_report(y_test, y_pred))\n",
    "\n",
    "# Feature importance\n",
    "importances = pd.Series(model.feature_importances_, index=X.columns)\n",
    "importances.sort_values().plot(kind='barh', title='Feature Importance')\n",
    "plt.tight_layout()\n",
    "plt.show()"
   ]
  }
 ],
 "metadata": {
  "kaggle": {
   "accelerator": "none",
   "dataSources": [
    {
     "datasetId": 411512,
     "sourceId": 835452,
     "sourceType": "datasetVersion"
    }
   ],
   "dockerImageVersionId": 31012,
   "isGpuEnabled": false,
   "isInternetEnabled": false,
   "language": "python",
   "sourceType": "notebook"
  },
  "kernelspec": {
   "display_name": "Python 3",
   "language": "python",
   "name": "python3"
  },
  "language_info": {
   "codemirror_mode": {
    "name": "ipython",
    "version": 3
   },
   "file_extension": ".py",
   "mimetype": "text/x-python",
   "name": "python",
   "nbconvert_exporter": "python",
   "pygments_lexer": "ipython3",
   "version": "3.11.11"
  },
  "papermill": {
   "default_parameters": {},
   "duration": 66.470329,
   "end_time": "2025-05-12T16:15:43.527706",
   "environment_variables": {},
   "exception": null,
   "input_path": "__notebook__.ipynb",
   "output_path": "__notebook__.ipynb",
   "parameters": {},
   "start_time": "2025-05-12T16:14:37.057377",
   "version": "2.6.0"
  }
 },
 "nbformat": 4,
 "nbformat_minor": 5
}
